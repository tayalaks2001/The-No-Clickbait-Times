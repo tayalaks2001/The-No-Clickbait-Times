{
 "cells": [
  {
   "cell_type": "code",
   "execution_count": 22,
   "metadata": {},
   "outputs": [],
   "source": [
    "import numpy as np\n",
    "import pandas as pd"
   ]
  },
  {
   "cell_type": "code",
   "execution_count": 23,
   "metadata": {},
   "outputs": [],
   "source": [
    "testData = pd.read_csv('test.csv')\n",
    "testData = testData[['text','title']]"
   ]
  },
  {
   "cell_type": "code",
   "execution_count": 24,
   "metadata": {},
   "outputs": [],
   "source": [
    "resultData = pd.read_csv('result.csv')"
   ]
  },
  {
   "cell_type": "code",
   "execution_count": 25,
   "metadata": {},
   "outputs": [],
   "source": [
    "jointDF = pd.DataFrame({\"Old Title\": testData['title'], \"New Title\": resultData['title']})"
   ]
  },
  {
   "cell_type": "code",
   "execution_count": 32,
   "metadata": {},
   "outputs": [
    {
     "data": {
      "text/html": [
       "<div>\n",
       "<style scoped>\n",
       "    .dataframe tbody tr th:only-of-type {\n",
       "        vertical-align: middle;\n",
       "    }\n",
       "\n",
       "    .dataframe tbody tr th {\n",
       "        vertical-align: top;\n",
       "    }\n",
       "\n",
       "    .dataframe thead th {\n",
       "        text-align: right;\n",
       "    }\n",
       "</style>\n",
       "<table border=\"1\" class=\"dataframe\">\n",
       "  <thead>\n",
       "    <tr style=\"text-align: right;\">\n",
       "      <th></th>\n",
       "      <th>Old Title</th>\n",
       "      <th>New Title</th>\n",
       "    </tr>\n",
       "  </thead>\n",
       "  <tbody>\n",
       "    <tr>\n",
       "      <td>0</td>\n",
       "      <td>Amazon CEO Jeff Bezos is now the second richest man in the world</td>\n",
       "      <td>More Try Yahoo Finance on Firefox » Amazon CEO Jeff Bezos is now the second richest man in the world after overtaking Amancio Ortega and Warren Buffett, according to Bloomberg's Billionaires Index.</td>\n",
       "    </tr>\n",
       "    <tr>\n",
       "      <td>1</td>\n",
       "      <td>Does Laura Dern Handle a Lightsaber in the New ‘Star Wars’? [Video]</td>\n",
       "      <td>More Laura Dern seems to be everywhere these days. Laura Dern’s Sole Beauty Secret Involves Drugs — and She’s Never Said It Out Loud The Many Movie Looks of Reese Witherspoon Here's Where Kellie Pickler Loves to Spend Her 'Husband's Money' 15 Stunning Plus-Size Prom Dresses Under $200 HBO Producer Admits He Dragged Overdosed Mom-of-Three’s Body Outside of Apartment After Night of Partying 14 Must-Have Woven Bags for Spring The Brightly Colored Uniforms Seen at NYC’s St. Patrick’s Day Parade Yes, They’re Dating!</td>\n",
       "    </tr>\n",
       "    <tr>\n",
       "      <td>2</td>\n",
       "      <td>In this photographer’s home town, stepping out of the house is a risk</td>\n",
       "      <td>In this photographer’s home town, stepping out of the house is a risk</td>\n",
       "    </tr>\n",
       "    <tr>\n",
       "      <td>3</td>\n",
       "      <td>8 Ways To Get Your Spouse To Open Up More, According To Therapists</td>\n",
       "      <td>Experts say that communication is the cornerstone of a good relationship. The trick is to do it subtly, so your spouse doesn’t feel forced to open up or talk, said Marie Land, a psychologist in Washington, D.C. “You need to be able to address the elephant in the room but they need to know they can get out of an uncomfortable emotional conversation,” she said. “</td>\n",
       "    </tr>\n",
       "    <tr>\n",
       "      <td>4</td>\n",
       "      <td>US says claim it supported IS in Syria is 'ludicrous'</td>\n",
       "      <td>US says claim it supported IS in Syria is 'ludicrous'</td>\n",
       "    </tr>\n",
       "  </tbody>\n",
       "</table>\n",
       "</div>"
      ],
      "text/plain": [
       "                                                               Old Title  \\\n",
       "0  Amazon CEO Jeff Bezos is now the second richest man in the world        \n",
       "1  Does Laura Dern Handle a Lightsaber in the New ‘Star Wars’? [Video]     \n",
       "2  In this photographer’s home town, stepping out of the house is a risk   \n",
       "3  8 Ways To Get Your Spouse To Open Up More, According To Therapists      \n",
       "4  US says claim it supported IS in Syria is 'ludicrous'                   \n",
       "\n",
       "                                                                                                                                                                                                                                                                                                                                                                                                                                                                                                                              New Title  \n",
       "0  More Try Yahoo Finance on Firefox » Amazon CEO Jeff Bezos is now the second richest man in the world after overtaking Amancio Ortega and Warren Buffett, according to Bloomberg's Billionaires Index.                                                                                                                                                                                                                                                                                                                                 \n",
       "1  More Laura Dern seems to be everywhere these days. Laura Dern’s Sole Beauty Secret Involves Drugs — and She’s Never Said It Out Loud The Many Movie Looks of Reese Witherspoon Here's Where Kellie Pickler Loves to Spend Her 'Husband's Money' 15 Stunning Plus-Size Prom Dresses Under $200 HBO Producer Admits He Dragged Overdosed Mom-of-Three’s Body Outside of Apartment After Night of Partying 14 Must-Have Woven Bags for Spring The Brightly Colored Uniforms Seen at NYC’s St. Patrick’s Day Parade Yes, They’re Dating!  \n",
       "2  In this photographer’s home town, stepping out of the house is a risk                                                                                                                                                                                                                                                                                                                                                                                                                                                                 \n",
       "3  Experts say that communication is the cornerstone of a good relationship. The trick is to do it subtly, so your spouse doesn’t feel forced to open up or talk, said Marie Land, a psychologist in Washington, D.C. “You need to be able to address the elephant in the room but they need to know they can get out of an uncomfortable emotional conversation,” she said. “                                                                                                                                                           \n",
       "4  US says claim it supported IS in Syria is 'ludicrous'                                                                                                                                                                                                                                                                                                                                                                                                                                                                                 "
      ]
     },
     "execution_count": 32,
     "metadata": {},
     "output_type": "execute_result"
    }
   ],
   "source": [
    "pd.set_option('display.max_colwidth', -1)\n",
    "jointDF[:5]"
   ]
  },
  {
   "cell_type": "code",
   "execution_count": null,
   "metadata": {},
   "outputs": [],
   "source": []
  }
 ],
 "metadata": {
  "kernelspec": {
   "display_name": "Python 3",
   "language": "python",
   "name": "python3"
  },
  "language_info": {
   "codemirror_mode": {
    "name": "ipython",
    "version": 3
   },
   "file_extension": ".py",
   "mimetype": "text/x-python",
   "name": "python",
   "nbconvert_exporter": "python",
   "pygments_lexer": "ipython3",
   "version": "3.7.4"
  }
 },
 "nbformat": 4,
 "nbformat_minor": 2
}

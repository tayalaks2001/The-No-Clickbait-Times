{
 "cells": [
  {
   "cell_type": "code",
   "execution_count": 1,
   "metadata": {},
   "outputs": [],
   "source": [
    "# Basic Libraries\n",
    "import numpy as np\n",
    "import pandas as pd\n",
    "import seaborn as sb\n",
    "import matplotlib.pyplot as plt # we only need pyplot\n",
    "sb.set() # set the default Seaborn style for graphics"
   ]
  },
  {
   "cell_type": "code",
   "execution_count": 2,
   "metadata": {},
   "outputs": [
    {
     "data": {
      "text/html": [
       "<div>\n",
       "<style scoped>\n",
       "    .dataframe tbody tr th:only-of-type {\n",
       "        vertical-align: middle;\n",
       "    }\n",
       "\n",
       "    .dataframe tbody tr th {\n",
       "        vertical-align: top;\n",
       "    }\n",
       "\n",
       "    .dataframe thead th {\n",
       "        text-align: right;\n",
       "    }\n",
       "</style>\n",
       "<table border=\"1\" class=\"dataframe\">\n",
       "  <thead>\n",
       "    <tr style=\"text-align: right;\">\n",
       "      <th></th>\n",
       "      <th>label</th>\n",
       "      <th>title</th>\n",
       "      <th>text</th>\n",
       "    </tr>\n",
       "  </thead>\n",
       "  <tbody>\n",
       "    <tr>\n",
       "      <td>0</td>\n",
       "      <td>news</td>\n",
       "      <td>China and Economic Reform: Xi Jinping’s Track ...</td>\n",
       "      <td>Economists generally agree: China must overhau...</td>\n",
       "    </tr>\n",
       "    <tr>\n",
       "      <td>1</td>\n",
       "      <td>news</td>\n",
       "      <td>Trade to Be a Big Topic in Theresa May’s U.S. ...</td>\n",
       "      <td>LONDON—British Prime Minister Theresa May said...</td>\n",
       "    </tr>\n",
       "    <tr>\n",
       "      <td>2</td>\n",
       "      <td>clickbait</td>\n",
       "      <td>The Top Beaches In The World, According To Nat...</td>\n",
       "      <td>Beaches come in all sorts of shapes and sizes ...</td>\n",
       "    </tr>\n",
       "    <tr>\n",
       "      <td>3</td>\n",
       "      <td>clickbait</td>\n",
       "      <td>Sheriff’s Report Provides New Details on Tamir...</td>\n",
       "      <td>A timeline of what happened after Tamir Rice, ...</td>\n",
       "    </tr>\n",
       "    <tr>\n",
       "      <td>4</td>\n",
       "      <td>news</td>\n",
       "      <td>Surgeon claiming he will transplant volunteer'...</td>\n",
       "      <td>An Italian neurosurgeon who has claimed for mo...</td>\n",
       "    </tr>\n",
       "  </tbody>\n",
       "</table>\n",
       "</div>"
      ],
      "text/plain": [
       "       label                                              title  \\\n",
       "0       news  China and Economic Reform: Xi Jinping’s Track ...   \n",
       "1       news  Trade to Be a Big Topic in Theresa May’s U.S. ...   \n",
       "2  clickbait  The Top Beaches In The World, According To Nat...   \n",
       "3  clickbait  Sheriff’s Report Provides New Details on Tamir...   \n",
       "4       news  Surgeon claiming he will transplant volunteer'...   \n",
       "\n",
       "                                                text  \n",
       "0  Economists generally agree: China must overhau...  \n",
       "1  LONDON—British Prime Minister Theresa May said...  \n",
       "2  Beaches come in all sorts of shapes and sizes ...  \n",
       "3  A timeline of what happened after Tamir Rice, ...  \n",
       "4  An Italian neurosurgeon who has claimed for mo...  "
      ]
     },
     "execution_count": 2,
     "metadata": {},
     "output_type": "execute_result"
    }
   ],
   "source": [
    "newsData = pd.read_csv(\"train.csv\")\n",
    "newsData.head()"
   ]
  },
  {
   "cell_type": "code",
   "execution_count": 3,
   "metadata": {},
   "outputs": [
    {
     "name": "stdout",
     "output_type": "stream",
     "text": [
      "<class 'pandas.core.frame.DataFrame'>\n",
      "RangeIndex: 24871 entries, 0 to 24870\n",
      "Data columns (total 3 columns):\n",
      "label    24871 non-null object\n",
      "title    19947 non-null object\n",
      "text     24788 non-null object\n",
      "dtypes: object(3)\n",
      "memory usage: 583.0+ KB\n"
     ]
    }
   ],
   "source": [
    "newsData.info()"
   ]
  },
  {
   "cell_type": "code",
   "execution_count": 4,
   "metadata": {},
   "outputs": [
    {
     "data": {
      "text/plain": [
       "array(['news', 'clickbait', 'other'], dtype=object)"
      ]
     },
     "execution_count": 4,
     "metadata": {},
     "output_type": "execute_result"
    }
   ],
   "source": [
    "newsData.label.unique()"
   ]
  },
  {
   "cell_type": "code",
   "execution_count": 5,
   "metadata": {},
   "outputs": [],
   "source": [
    "#removing all rows with unspecified label\n",
    "newsData = newsData[newsData.label != 'other']"
   ]
  },
  {
   "cell_type": "code",
   "execution_count": 6,
   "metadata": {},
   "outputs": [
    {
     "data": {
      "text/plain": [
       "array(['news', 'clickbait'], dtype=object)"
      ]
     },
     "execution_count": 6,
     "metadata": {},
     "output_type": "execute_result"
    }
   ],
   "source": [
    "newsData.label.unique()"
   ]
  },
  {
   "cell_type": "code",
   "execution_count": 7,
   "metadata": {},
   "outputs": [
    {
     "name": "stdout",
     "output_type": "stream",
     "text": [
      "<class 'pandas.core.frame.DataFrame'>\n",
      "Int64Index: 18398 entries, 0 to 24870\n",
      "Data columns (total 3 columns):\n",
      "label    18398 non-null object\n",
      "title    18398 non-null object\n",
      "text     18330 non-null object\n",
      "dtypes: object(3)\n",
      "memory usage: 574.9+ KB\n"
     ]
    }
   ],
   "source": [
    "newsData.info()"
   ]
  },
  {
   "cell_type": "code",
   "execution_count": 8,
   "metadata": {},
   "outputs": [
    {
     "name": "stdout",
     "output_type": "stream",
     "text": [
      "<class 'pandas.core.frame.DataFrame'>\n",
      "RangeIndex: 18330 entries, 0 to 18329\n",
      "Data columns (total 3 columns):\n",
      "label    18330 non-null object\n",
      "title    18330 non-null object\n",
      "text     18330 non-null object\n",
      "dtypes: object(3)\n",
      "memory usage: 429.7+ KB\n"
     ]
    }
   ],
   "source": [
    "#Cleaning the remaining data\n",
    "newsData = newsData.dropna(axis=0)\n",
    "newsData.reset_index(drop=True, inplace=True)\n",
    "newsData.info()"
   ]
  },
  {
   "cell_type": "code",
   "execution_count": 9,
   "metadata": {},
   "outputs": [],
   "source": [
    "from sklearn.pipeline import Pipeline\n",
    "from sklearn.feature_extraction.text import CountVectorizer, TfidfTransformer\n",
    "from sklearn.model_selection import train_test_split\n",
    "from sklearn.naive_bayes import MultinomialNB\n",
    "from sklearn.linear_model import SGDClassifier"
   ]
  },
  {
   "cell_type": "code",
   "execution_count": 10,
   "metadata": {},
   "outputs": [],
   "source": [
    "X = newsData.title\n",
    "y = newsData.label"
   ]
  },
  {
   "cell_type": "code",
   "execution_count": 11,
   "metadata": {},
   "outputs": [
    {
     "data": {
      "text/plain": [
       "0         news\n",
       "1         news\n",
       "2    clickbait\n",
       "3    clickbait\n",
       "4         news\n",
       "Name: label, dtype: object"
      ]
     },
     "execution_count": 11,
     "metadata": {},
     "output_type": "execute_result"
    }
   ],
   "source": [
    "y.head()"
   ]
  },
  {
   "cell_type": "code",
   "execution_count": 12,
   "metadata": {},
   "outputs": [],
   "source": [
    "for i in range(18330):\n",
    "  if y[i]=='clickbait':\n",
    "    y[i]=True\n",
    "  else:\n",
    "    y[i]=False\n",
    "\n",
    "y=y.astype('bool')"
   ]
  },
  {
   "cell_type": "code",
   "execution_count": 13,
   "metadata": {},
   "outputs": [
    {
     "data": {
      "text/plain": [
       "<matplotlib.axes._subplots.AxesSubplot at 0x28b237ac588>"
      ]
     },
     "execution_count": 13,
     "metadata": {},
     "output_type": "execute_result"
    },
    {
     "data": {
      "image/png": "[encoded data removed]",
      "text/plain": [
       "<Figure size 432x288 with 1 Axes>"
      ]
     },
     "metadata": {
      "needs_background": "light"
     },
     "output_type": "display_data"
    }
   ],
   "source": [
    "sb.countplot(newsData.label)"
   ]
  },
  {
   "cell_type": "code",
   "execution_count": 14,
   "metadata": {},
   "outputs": [],
   "source": [
    "from sklearn.metrics import confusion_matrix"
   ]
  },
  {
   "cell_type": "code",
   "execution_count": 17,
   "metadata": {},
   "outputs": [],
   "source": [
    "def doubleModel(newsData):\n",
    "  clf = Pipeline([('vect', CountVectorizer(ngram_range=(1,3), min_df=0.001)),\n",
    "                ('clf', MultinomialNB())])\n",
    "  \n",
    "  X = newsData.title\n",
    "  y = newsData.label\n",
    "  y=y.astype('bool')\n",
    "  X_train, X_test, y_train, y_test = train_test_split(X, y, test_size=0.25, random_state=42)\n",
    "  clf = clf.fit(X_train, y_train)\n",
    "\n",
    "  y_train_title_pred = clf.predict(X_train)\n",
    "  y_test_title_pred = clf.predict(X_test)\n",
    "  \n",
    "  X = newsData.text\n",
    "  X_train, X_test, y_train, y_test = train_test_split(X, y, test_size=0.25, random_state=42)\n",
    "  clf = clf.fit(X_train, y_train)\n",
    "\n",
    "  y_train_text_pred = clf.predict(X_train)\n",
    "  y_test_text_pred = clf.predict(X_test)\n",
    "\n",
    "  y_train_pred = pd.DataFrame(y_train_title_pred | y_train_text_pred)\n",
    "  y_test_pred = pd.DataFrame(y_test_title_pred | y_test_text_pred)\n",
    "  f, axes = plt.subplots(1, 2, figsize=(12, 4))\n",
    "  sb.heatmap(confusion_matrix(y_train, y_train_pred),\n",
    "           annot = True, fmt=\".0f\", annot_kws={\"size\": 18}, ax = axes[0])\n",
    "  sb.heatmap(confusion_matrix(y_test, y_test_pred), \n",
    "           annot = True, fmt=\".0f\", annot_kws={\"size\": 18}, ax = axes[1])\n",
    "\n",
    "  trainMat = confusion_matrix(y_train, y_train_pred)\n",
    "  tpTrain, tnTrain, fpTrain, fnTrain = trainMat[1][1], trainMat[0][0], trainMat[0][1], trainMat[1][0]\n",
    "  testMat = confusion_matrix(y_test, y_test_pred)\n",
    "  tpTest, tnTest, fpTest, fnTest = testMat[1][1], testMat[0][0], testMat[0][1], testMat[1][0]\n",
    "    \n",
    "  fprTrain, fprTest = fpTrain/(tnTrain+fpTrain), fpTest/(tnTest+fpTest)\n",
    "  fnrTrain, fnrTest = fnTrain/(tpTrain+fnTrain), fnTest/(tpTest+fnTest)\n",
    "  tprTrain, tprTest = tpTrain/(tpTrain+fnTrain), tpTest/(tpTest+fnTest)\n",
    "  tnrTrain, tnrTest = tnTrain/(tnTrain+fpTrain), tnTest/(tnTest+fpTest)\n",
    "    \n",
    "  print(\"\\t\\t\\tTrain\\tTest\")\n",
    "  print(\"True Positive Rate: \\t%.4f\\t%.4f\"%(tprTrain, tprTest))\n",
    "  print(\"True Negative Rate: \\t%.4f\\t%.4f\"%(tnrTrain, tnrTest))\n",
    "  print(\"False Positive Rate:\\t%.4f\\t%.4f\"%(fprTrain, fprTest))\n",
    "  print(\"False Negative Rate:\\t%.4f\\t%.4f\"%(fnrTrain, fnrTest))\n",
    "  print(\"\\n\\n\")"
   ]
  },
  {
   "cell_type": "code",
   "execution_count": 18,
   "metadata": {},
   "outputs": [
    {
     "name": "stdout",
     "output_type": "stream",
     "text": [
      "\t\t\tTrain\tTest\n",
      "True Positive Rate: \t0.8608\t0.7729\n",
      "True Negative Rate: \t0.7243\t0.6927\n",
      "False Positive Rate:\t0.2757\t0.3073\n",
      "False Negative Rate:\t0.1392\t0.2271\n",
      "\n",
      "\n",
      "\n"
     ]
    },
    {
     "data": {
      "image/png": "[encoded data removed]",
      "text/plain": [
       "<Figure size 864x288 with 4 Axes>"
      ]
     },
     "metadata": {
      "needs_background": "light"
     },
     "output_type": "display_data"
    }
   ],
   "source": [
    "doubleModel(newsData)"
   ]
  },
  {
   "cell_type": "code",
   "execution_count": null,
   "metadata": {},
   "outputs": [],
   "source": []
  }
 ],
 "metadata": {
  "kernelspec": {
   "display_name": "Python 3",
   "language": "python",
   "name": "python3"
  },
  "language_info": {
   "codemirror_mode": {
    "name": "ipython",
    "version": 3
   },
   "file_extension": ".py",
   "mimetype": "text/x-python",
   "name": "python",
   "nbconvert_exporter": "python",
   "pygments_lexer": "ipython3",
   "version": "3.7.4"
  }
 },
 "nbformat": 4,
 "nbformat_minor": 2
}
